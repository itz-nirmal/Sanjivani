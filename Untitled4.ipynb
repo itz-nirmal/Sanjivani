{
  "nbformat": 4,
  "nbformat_minor": 0,
  "metadata": {
    "colab": {
      "provenance": [],
      "authorship_tag": "ABX9TyMMSM29Z8nLqlIxYP8QO725",
      "include_colab_link": true
    },
    "kernelspec": {
      "name": "python3",
      "display_name": "Python 3"
    },
    "language_info": {
      "name": "python"
    }
  },
  "cells": [
    {
      "cell_type": "markdown",
      "metadata": {
        "id": "view-in-github",
        "colab_type": "text"
      },
      "source": [
        "<a href=\"https://colab.research.google.com/github/HarshitaDua07/Sanjivani/blob/AI-Ml-Pipeline-%26-Model-Training/Untitled4.ipynb\" target=\"_parent\"><img src=\"https://colab.research.google.com/assets/colab-badge.svg\" alt=\"Open In Colab\"/></a>"
      ]
    },
    {
      "cell_type": "code",
      "execution_count": 12,
      "metadata": {
        "id": "mDEsAzVv6h7-"
      },
      "outputs": [],
      "source": [
        "import pandas as pd\n",
        "from sklearn.model_selection import train_test_split\n",
        "from sklearn.preprocessing import LabelEncoder\n",
        "from sklearn.ensemble import RandomForestClassifier\n",
        "from sklearn.metrics import accuracy_score, classification_report, top_k_accuracy_score\n"
      ]
    },
    {
      "cell_type": "code",
      "source": [
        "df = pd.read_csv(\"Testing (1).csv\")\n",
        "\n",
        "# Step 3: Normalize column names (lowercase, replace _ with space)\n",
        "df.columns = [col.lower().replace('_', ' ') if col != 'prognosis' else col for col in df.columns]\n",
        "\n",
        "# Step 4: Handle nulls\n",
        "df = df.dropna()"
      ],
      "metadata": {
        "id": "2t1YOn8s7Qiz"
      },
      "execution_count": 15,
      "outputs": []
    },
    {
      "cell_type": "code",
      "source": [
        "X = df.drop(columns=['prognosis'])\n",
        "y = df['prognosis']\n",
        "\n",
        "# Step 6: Encode target labels\n",
        "le = LabelEncoder()\n",
        "y_encoded = le.fit_transform(y)\n",
        "\n",
        "# Step 7: Train/test split\n",
        "X_train, X_test, y_train, y_test = train_test_split(X, y_encoded, test_size=0.2, random_state=42)\n"
      ],
      "metadata": {
        "id": "ZKLndkGi7Q8L"
      },
      "execution_count": 16,
      "outputs": []
    },
    {
      "cell_type": "code",
      "source": [
        "\n",
        "model = RandomForestClassifier(n_estimators=100, random_state=42)\n",
        "model.fit(X_train, y_train)\n",
        "\n",
        "from sklearn.utils.multiclass import unique_labels\n",
        "\n",
        "# Step 9: Predictions and evaluation\n",
        "y_pred = model.predict(X_test)\n",
        "\n",
        "y_proba = model.predict_proba(X_test)\n",
        "\n",
        "\n",
        "# Accuracy\n",
        "print(\"Accuracy:\", accuracy_score(y_test, y_pred))\n",
        "\n",
        "\n",
        "joblib.dump(model, \"rf_model.pkl\")\n",
        "joblib.dump(le, \"label_encoder.pkl\")\n",
        "joblib.dump(list(X.columns), \"symptom_list.pkl\")\n",
        "\n",
        "print(\"✅ Model, label encoder, and symptom list saved.\")\n",
        "\n",
        "# Fix: only show labels actually present in y_test\n",
        "present_labels = unique_labels(y_test, y_pred)\n",
        "present_class_names = le.inverse_transform(present_labels)\n",
        "\n",
        "print(\"\\nClassification Report:\\n\", classification_report(\n",
        "    y_test, y_pred, labels=present_labels, target_names=present_class_names))\n"
      ],
      "metadata": {
        "colab": {
          "base_uri": "https://localhost:8080/"
        },
        "id": "Rj2v1kCx7RF3",
        "outputId": "e76fff90-51fd-47ee-b1fa-d19c3aef5758"
      },
      "execution_count": 18,
      "outputs": [
        {
          "output_type": "stream",
          "name": "stdout",
          "text": [
            "Accuracy: 0.0\n",
            "✅ Model, label encoder, and symptom list saved.\n",
            "\n",
            "Classification Report:\n",
            "                                          precision    recall  f1-score   support\n",
            "\n",
            "(vertigo) Paroymsal  Positional Vertigo       0.00      0.00      0.00       0.0\n",
            "                            Common Cold       0.00      0.00      0.00       1.0\n",
            "                              Diabetes        0.00      0.00      0.00       0.0\n",
            "                          Drug Reaction       0.00      0.00      0.00       1.0\n",
            "                       Fungal infection       0.00      0.00      0.00       0.0\n",
            "                                   GERD       0.00      0.00      0.00       0.0\n",
            "                        Gastroenteritis       0.00      0.00      0.00       1.0\n",
            "                           Heart attack       0.00      0.00      0.00       1.0\n",
            "                            Hepatitis D       0.00      0.00      0.00       0.0\n",
            "                                Malaria       0.00      0.00      0.00       0.0\n",
            "           Paralysis (brain hemorrhage)       0.00      0.00      0.00       1.0\n",
            "                              Pneumonia       0.00      0.00      0.00       0.0\n",
            "                              Psoriasis       0.00      0.00      0.00       1.0\n",
            "                           Tuberculosis       0.00      0.00      0.00       1.0\n",
            "                         Varicose veins       0.00      0.00      0.00       1.0\n",
            "                            hepatitis A       0.00      0.00      0.00       1.0\n",
            "\n",
            "                               accuracy                           0.00       9.0\n",
            "                              macro avg       0.00      0.00      0.00       9.0\n",
            "                           weighted avg       0.00      0.00      0.00       9.0\n",
            "\n"
          ]
        },
        {
          "output_type": "stream",
          "name": "stderr",
          "text": [
            "/usr/local/lib/python3.11/dist-packages/sklearn/metrics/_classification.py:1565: UndefinedMetricWarning: Precision is ill-defined and being set to 0.0 in labels with no predicted samples. Use `zero_division` parameter to control this behavior.\n",
            "  _warn_prf(average, modifier, f\"{metric.capitalize()} is\", len(result))\n",
            "/usr/local/lib/python3.11/dist-packages/sklearn/metrics/_classification.py:1565: UndefinedMetricWarning: Recall is ill-defined and being set to 0.0 in labels with no true samples. Use `zero_division` parameter to control this behavior.\n",
            "  _warn_prf(average, modifier, f\"{metric.capitalize()} is\", len(result))\n",
            "/usr/local/lib/python3.11/dist-packages/sklearn/metrics/_classification.py:1565: UndefinedMetricWarning: Precision is ill-defined and being set to 0.0 in labels with no predicted samples. Use `zero_division` parameter to control this behavior.\n",
            "  _warn_prf(average, modifier, f\"{metric.capitalize()} is\", len(result))\n",
            "/usr/local/lib/python3.11/dist-packages/sklearn/metrics/_classification.py:1565: UndefinedMetricWarning: Recall is ill-defined and being set to 0.0 in labels with no true samples. Use `zero_division` parameter to control this behavior.\n",
            "  _warn_prf(average, modifier, f\"{metric.capitalize()} is\", len(result))\n",
            "/usr/local/lib/python3.11/dist-packages/sklearn/metrics/_classification.py:1565: UndefinedMetricWarning: Precision is ill-defined and being set to 0.0 in labels with no predicted samples. Use `zero_division` parameter to control this behavior.\n",
            "  _warn_prf(average, modifier, f\"{metric.capitalize()} is\", len(result))\n",
            "/usr/local/lib/python3.11/dist-packages/sklearn/metrics/_classification.py:1565: UndefinedMetricWarning: Recall is ill-defined and being set to 0.0 in labels with no true samples. Use `zero_division` parameter to control this behavior.\n",
            "  _warn_prf(average, modifier, f\"{metric.capitalize()} is\", len(result))\n"
          ]
        }
      ]
    },
    {
      "cell_type": "code",
      "source": [
        "\n",
        "import spacy\n",
        "import joblib\n",
        "import numpy as np\n",
        "\n",
        "# Load spaCy model\n",
        "nlp = spacy.load(\"en_core_web_sm\")\n",
        "\n",
        "# Load trained ML model & label encoder\n",
        "model = joblib.load(\"rf_model.pkl\")         # Your trained RandomForestClassifier\n",
        "label_encoder = joblib.load(\"label_encoder.pkl\")  # Your LabelEncoder for prognosis\n",
        "\n",
        "# Load list of symptoms (same order used in training)\n",
        "symptom_list = joblib.load(\"symptom_list.pkl\")  # Must match training order\n",
        "\n",
        "# ✅ NLP Preprocessing Functions\n",
        "\n",
        "def preprocess_text(text):\n",
        "    doc = nlp(text.lower())\n",
        "    return [token.lemma_ for token in doc if token.is_alpha and not token.is_stop]\n",
        "\n",
        "def extract_symptoms(text, symptom_list):\n",
        "    tokens = preprocess_text(text)\n",
        "    matched = []\n",
        "    for symptom in symptom_list:\n",
        "        words = symptom.split()\n",
        "        if all(word in tokens for word in words):\n",
        "            matched.append(symptom)\n",
        "    return matched\n",
        "\n",
        "def symptom_to_vector(matched, symptom_list):\n",
        "    return np.array([1 if symptom in matched else 0 for symptom in symptom_list]).reshape(1, -1)\n",
        "\n",
        "# ✅ Full pipeline: Chat input to prediction\n",
        "\n",
        "def predict_from_chat(text):\n",
        "    matched = extract_symptoms(text, symptom_list)\n",
        "    if not matched:\n",
        "        return \"Sorry, I couldn't identify any known symptoms. Try rephrasing.\"\n",
        "\n",
        "    vec = symptom_to_vector(matched, symptom_list)\n",
        "    prediction = model.predict(vec)\n",
        "    disease = label_encoder.inverse_transform(prediction)[0]\n",
        "\n",
        "    return f\"Predicted disease: {disease}\\nMatched symptoms: {matched}\"\n"
      ],
      "metadata": {
        "id": "7QvxSXHz7RLe"
      },
      "execution_count": 9,
      "outputs": []
    },
    {
      "cell_type": "code",
      "source": [
        "from sklearn.metrics import classification_report, confusion_matrix, ConfusionMatrixDisplay, top_k_accuracy_score\n",
        "import matplotlib.pyplot as plt\n",
        "import seaborn as sns\n",
        "\n",
        "# Predict\n",
        "y_pred = model.predict(X_test)\n",
        "\n",
        "present_labels = unique_labels(y_test, y_pred)\n",
        "present_class_names = label_encoder.inverse_transform(present_labels)\n",
        "\n",
        "# Confusion Matrix\n",
        "cm = confusion_matrix(y_test, y_pred)\n",
        "plt.figure(figsize=(12,8))\n",
        "sns.heatmap(cm, annot=True, fmt=\"d\", cmap=\"Blues\")\n",
        "plt.xlabel(\"Predicted\")\n",
        "plt.ylabel(\"Actual\")\n",
        "plt.title(\"Confusion Matrix\")\n",
        "plt.show()\n",
        "\n",
        "# Classification report\n",
        "print(classification_report(y_test, y_pred,\n",
        "                            labels=present_labels,\n",
        "                            target_names=present_class_names))"
      ],
      "metadata": {
        "colab": {
          "base_uri": "https://localhost:8080/",
          "height": 1000
        },
        "id": "zZa-dYjeDFGq",
        "outputId": "e94b1095-9755-4d99-a3d8-d98ee15b3b4a"
      },
      "execution_count": 21,
      "outputs": [
        {
          "output_type": "display_data",
          "data": {
            "text/plain": [
              "<Figure size 1200x800 with 2 Axes>"
            ],
            "image/png": "[encoded data removed]"
          },
          "metadata": {}
        },
        {
          "output_type": "stream",
          "name": "stdout",
          "text": [
            "                                         precision    recall  f1-score   support\n",
            "\n",
            "(vertigo) Paroymsal  Positional Vertigo       0.00      0.00      0.00       0.0\n",
            "                            Common Cold       0.00      0.00      0.00       1.0\n",
            "                              Diabetes        0.00      0.00      0.00       0.0\n",
            "                          Drug Reaction       0.00      0.00      0.00       1.0\n",
            "                       Fungal infection       0.00      0.00      0.00       0.0\n",
            "                                   GERD       0.00      0.00      0.00       0.0\n",
            "                        Gastroenteritis       0.00      0.00      0.00       1.0\n",
            "                           Heart attack       0.00      0.00      0.00       1.0\n",
            "                            Hepatitis D       0.00      0.00      0.00       0.0\n",
            "                                Malaria       0.00      0.00      0.00       0.0\n",
            "           Paralysis (brain hemorrhage)       0.00      0.00      0.00       1.0\n",
            "                              Pneumonia       0.00      0.00      0.00       0.0\n",
            "                              Psoriasis       0.00      0.00      0.00       1.0\n",
            "                           Tuberculosis       0.00      0.00      0.00       1.0\n",
            "                         Varicose veins       0.00      0.00      0.00       1.0\n",
            "                            hepatitis A       0.00      0.00      0.00       1.0\n",
            "\n",
            "                               accuracy                           0.00       9.0\n",
            "                              macro avg       0.00      0.00      0.00       9.0\n",
            "                           weighted avg       0.00      0.00      0.00       9.0\n",
            "\n"
          ]
        },
        {
          "output_type": "stream",
          "name": "stderr",
          "text": [
            "/usr/local/lib/python3.11/dist-packages/sklearn/metrics/_classification.py:1565: UndefinedMetricWarning: Precision is ill-defined and being set to 0.0 in labels with no predicted samples. Use `zero_division` parameter to control this behavior.\n",
            "  _warn_prf(average, modifier, f\"{metric.capitalize()} is\", len(result))\n",
            "/usr/local/lib/python3.11/dist-packages/sklearn/metrics/_classification.py:1565: UndefinedMetricWarning: Recall is ill-defined and being set to 0.0 in labels with no true samples. Use `zero_division` parameter to control this behavior.\n",
            "  _warn_prf(average, modifier, f\"{metric.capitalize()} is\", len(result))\n",
            "/usr/local/lib/python3.11/dist-packages/sklearn/metrics/_classification.py:1565: UndefinedMetricWarning: Precision is ill-defined and being set to 0.0 in labels with no predicted samples. Use `zero_division` parameter to control this behavior.\n",
            "  _warn_prf(average, modifier, f\"{metric.capitalize()} is\", len(result))\n",
            "/usr/local/lib/python3.11/dist-packages/sklearn/metrics/_classification.py:1565: UndefinedMetricWarning: Recall is ill-defined and being set to 0.0 in labels with no true samples. Use `zero_division` parameter to control this behavior.\n",
            "  _warn_prf(average, modifier, f\"{metric.capitalize()} is\", len(result))\n",
            "/usr/local/lib/python3.11/dist-packages/sklearn/metrics/_classification.py:1565: UndefinedMetricWarning: Precision is ill-defined and being set to 0.0 in labels with no predicted samples. Use `zero_division` parameter to control this behavior.\n",
            "  _warn_prf(average, modifier, f\"{metric.capitalize()} is\", len(result))\n",
            "/usr/local/lib/python3.11/dist-packages/sklearn/metrics/_classification.py:1565: UndefinedMetricWarning: Recall is ill-defined and being set to 0.0 in labels with no true samples. Use `zero_division` parameter to control this behavior.\n",
            "  _warn_prf(average, modifier, f\"{metric.capitalize()} is\", len(result))\n"
          ]
        }
      ]
    },
    {
      "cell_type": "code",
      "source": [
        "# Mapping of diseases to triage levels\n",
        "triage_mapping = {\n",
        "    \"(vertigo) Paroymsal  Positional Vertigo\": \"Yellow\",\n",
        "    \"Common Cold\": \"Green\",\n",
        "    \"Diabetes\": \"Yellow\",\n",
        "    \"Drug Reaction\": \"Yellow\",\n",
        "    \"Fungal infection\": \"Green\",\n",
        "    \"GERD\": \"Yellow\",\n",
        "    \"Gastroenteritis\": \"Yellow\",\n",
        "    \"Heart attack\": \"Red\",\n",
        "    \"Hepatitis D\": \"Red\",\n",
        "    \"Malaria\": \"Red\",\n",
        "    \"Paralysis (brain hemorrhage)\": \"Red\",\n",
        "    \"Pneumonia\": \"Red\",\n",
        "    \"Psoriasis\": \"Green\",\n",
        "    \"Tuberculosis\": \"Red\",\n",
        "    \"Varicose veins\": \"Yellow\",\n",
        "    \"hepatitis A\": \"Red\"\n",
        "}\n"
      ],
      "metadata": {
        "id": "qLTjFqLMDFgB"
      },
      "execution_count": 22,
      "outputs": []
    },
    {
      "cell_type": "code",
      "source": [
        "def assign_triage(disease_name):\n",
        "    return triage_mapping.get(disease_name, \"Unknown\")\n"
      ],
      "metadata": {
        "id": "krp4iNTJF5wN"
      },
      "execution_count": 23,
      "outputs": []
    },
    {
      "cell_type": "code",
      "source": [
        "predicted_diseases = label_encoder.inverse_transform(y_pred)\n",
        "triage_results = [assign_triage(disease) for disease in predicted_diseases]\n",
        "\n",
        "# Display sample results\n",
        "for disease, triage in zip(predicted_diseases[:10], triage_results[:10]):\n",
        "    print(f\"Disease: {disease} --> Triage: {triage}\")\n"
      ],
      "metadata": {
        "colab": {
          "base_uri": "https://localhost:8080/"
        },
        "id": "GCONU2yIF6EE",
        "outputId": "9f47e69f-0079-4aeb-d26f-6bd1461c1239"
      },
      "execution_count": 24,
      "outputs": [
        {
          "output_type": "stream",
          "name": "stdout",
          "text": [
            "Disease: Pneumonia --> Triage: Red\n",
            "Disease: (vertigo) Paroymsal  Positional Vertigo --> Triage: Yellow\n",
            "Disease: Malaria --> Triage: Red\n",
            "Disease: Pneumonia --> Triage: Red\n",
            "Disease: Fungal infection --> Triage: Green\n",
            "Disease: Fungal infection --> Triage: Green\n",
            "Disease: Hepatitis D --> Triage: Red\n",
            "Disease: GERD --> Triage: Yellow\n",
            "Disease: Diabetes  --> Triage: Unknown\n"
          ]
        }
      ]
    }
  ]
}